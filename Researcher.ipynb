{
  "nbformat": 4,
  "nbformat_minor": 0,
  "metadata": {
    "colab": {
      "provenance": []
    },
    "kernelspec": {
      "name": "python3",
      "display_name": "Python 3"
    },
    "language_info": {
      "name": "python"
    }
  },
  "cells": [
    {
      "cell_type": "code",
      "execution_count": 1,
      "metadata": {
        "id": "OOypjO5Cc4fT"
      },
      "outputs": [],
      "source": [
        "from google.colab import userdata\n",
        "import os\n",
        "\n",
        "os.environ['GROQ_API_KEY'] = userdata.get(\"GROQ_API_KEY\")\n",
        "os.environ['TAVILY_API_KEY'] = userdata.get(\"TAVILY_API_KEY\")\n"
      ]
    },
    {
      "cell_type": "code",
      "source": [
        "!pip install open-deep-research"
      ],
      "metadata": {
        "colab": {
          "base_uri": "https://localhost:8080/"
        },
        "collapsed": true,
        "id": "p4rsh4OkdV1y",
        "outputId": "e8b5136f-9136-4a72-f581-c2a8c1e5d43e"
      },
      "execution_count": 2,
      "outputs": [
        {
          "output_type": "stream",
          "name": "stdout",
          "text": [
            "Collecting open-deep-research\n",
            "  Downloading open_deep_research-0.0.10-py3-none-any.whl.metadata (13 kB)\n",
            "Collecting langgraph>=0.2.55 (from open-deep-research)\n",
            "  Downloading langgraph-0.3.25-py3-none-any.whl.metadata (7.7 kB)\n",
            "Collecting langchain-community>=0.3.9 (from open-deep-research)\n",
            "  Downloading langchain_community-0.3.20-py3-none-any.whl.metadata (2.4 kB)\n",
            "Collecting langchain-openai>=0.3.7 (from open-deep-research)\n",
            "  Downloading langchain_openai-0.3.12-py3-none-any.whl.metadata (2.3 kB)\n",
            "Collecting langchain-anthropic>=0.3.9 (from open-deep-research)\n",
            "  Downloading langchain_anthropic-0.3.10-py3-none-any.whl.metadata (1.9 kB)\n",
            "Requirement already satisfied: openai>=1.61.0 in /usr/local/lib/python3.11/dist-packages (from open-deep-research) (1.70.0)\n",
            "Collecting tavily-python>=0.5.0 (from open-deep-research)\n",
            "  Downloading tavily_python-0.5.4-py3-none-any.whl.metadata (91 kB)\n",
            "\u001b[2K     \u001b[90m━━━━━━━━━━━━━━━━━━━━━━━━━━━━━━━━━━━━━━━━\u001b[0m \u001b[32m91.6/91.6 kB\u001b[0m \u001b[31m3.6 MB/s\u001b[0m eta \u001b[36m0:00:00\u001b[0m\n",
            "\u001b[?25hCollecting langchain-groq>=0.2.4 (from open-deep-research)\n",
            "  Downloading langchain_groq-0.3.2-py3-none-any.whl.metadata (2.6 kB)\n",
            "Collecting arxiv>=2.1.3 (from open-deep-research)\n",
            "  Downloading arxiv-2.1.3-py3-none-any.whl.metadata (6.1 kB)\n",
            "Collecting pymupdf>=1.25.3 (from open-deep-research)\n",
            "  Downloading pymupdf-1.25.5-cp39-abi3-manylinux2014_x86_64.manylinux_2_17_x86_64.whl.metadata (3.4 kB)\n",
            "Collecting xmltodict>=0.14.2 (from open-deep-research)\n",
            "  Downloading xmltodict-0.14.2-py2.py3-none-any.whl.metadata (8.0 kB)\n",
            "Collecting linkup-sdk>=0.2.3 (from open-deep-research)\n",
            "  Downloading linkup_sdk-0.2.4-py3-none-any.whl.metadata (4.2 kB)\n",
            "Collecting duckduckgo-search>=3.0.0 (from open-deep-research)\n",
            "  Downloading duckduckgo_search-2025.4.1-cp311-cp311-manylinux_2_17_x86_64.manylinux2014_x86_64.whl.metadata (17 kB)\n",
            "Collecting exa-py>=1.8.8 (from open-deep-research)\n",
            "  Downloading exa_py-1.10.0-py3-none-any.whl.metadata (3.6 kB)\n",
            "Collecting feedparser~=6.0.10 (from arxiv>=2.1.3->open-deep-research)\n",
            "  Downloading feedparser-6.0.11-py3-none-any.whl.metadata (2.4 kB)\n",
            "Requirement already satisfied: requests~=2.32.0 in /usr/local/lib/python3.11/dist-packages (from arxiv>=2.1.3->open-deep-research) (2.32.3)\n",
            "Requirement already satisfied: click>=8.1.8 in /usr/local/lib/python3.11/dist-packages (from duckduckgo-search>=3.0.0->open-deep-research) (8.1.8)\n",
            "Collecting primp>=0.14.0 (from duckduckgo-search>=3.0.0->open-deep-research)\n",
            "  Downloading primp-0.14.0-cp38-abi3-manylinux_2_17_x86_64.manylinux2014_x86_64.whl.metadata (13 kB)\n",
            "Requirement already satisfied: lxml>=5.3.0 in /usr/local/lib/python3.11/dist-packages (from duckduckgo-search>=3.0.0->open-deep-research) (5.3.1)\n",
            "Requirement already satisfied: httpx>=0.28.1 in /usr/local/lib/python3.11/dist-packages (from exa-py>=1.8.8->open-deep-research) (0.28.1)\n",
            "Requirement already satisfied: pydantic>=2.10.6 in /usr/local/lib/python3.11/dist-packages (from exa-py>=1.8.8->open-deep-research) (2.11.1)\n",
            "Collecting pytest-mock>=3.14.0 (from exa-py>=1.8.8->open-deep-research)\n",
            "  Downloading pytest_mock-3.14.0-py3-none-any.whl.metadata (3.8 kB)\n",
            "Requirement already satisfied: typing-extensions>=4.12.2 in /usr/local/lib/python3.11/dist-packages (from exa-py>=1.8.8->open-deep-research) (4.13.0)\n",
            "Collecting anthropic<1,>=0.49.0 (from langchain-anthropic>=0.3.9->open-deep-research)\n",
            "  Downloading anthropic-0.49.0-py3-none-any.whl.metadata (24 kB)\n",
            "Requirement already satisfied: langchain-core<1.0.0,>=0.3.45 in /usr/local/lib/python3.11/dist-packages (from langchain-anthropic>=0.3.9->open-deep-research) (0.3.49)\n",
            "Requirement already satisfied: langchain<1.0.0,>=0.3.21 in /usr/local/lib/python3.11/dist-packages (from langchain-community>=0.3.9->open-deep-research) (0.3.22)\n",
            "Requirement already satisfied: SQLAlchemy<3,>=1.4 in /usr/local/lib/python3.11/dist-packages (from langchain-community>=0.3.9->open-deep-research) (2.0.40)\n",
            "Requirement already satisfied: PyYAML>=5.3 in /usr/local/lib/python3.11/dist-packages (from langchain-community>=0.3.9->open-deep-research) (6.0.2)\n",
            "Requirement already satisfied: aiohttp<4.0.0,>=3.8.3 in /usr/local/lib/python3.11/dist-packages (from langchain-community>=0.3.9->open-deep-research) (3.11.15)\n",
            "Requirement already satisfied: tenacity!=8.4.0,<10,>=8.1.0 in /usr/local/lib/python3.11/dist-packages (from langchain-community>=0.3.9->open-deep-research) (9.0.0)\n",
            "Collecting dataclasses-json<0.7,>=0.5.7 (from langchain-community>=0.3.9->open-deep-research)\n",
            "  Downloading dataclasses_json-0.6.7-py3-none-any.whl.metadata (25 kB)\n",
            "Collecting pydantic-settings<3.0.0,>=2.4.0 (from langchain-community>=0.3.9->open-deep-research)\n",
            "  Downloading pydantic_settings-2.8.1-py3-none-any.whl.metadata (3.5 kB)\n",
            "Requirement already satisfied: langsmith<0.4,>=0.1.125 in /usr/local/lib/python3.11/dist-packages (from langchain-community>=0.3.9->open-deep-research) (0.3.22)\n",
            "Collecting httpx-sse<1.0.0,>=0.4.0 (from langchain-community>=0.3.9->open-deep-research)\n",
            "  Downloading httpx_sse-0.4.0-py3-none-any.whl.metadata (9.0 kB)\n",
            "Requirement already satisfied: numpy<3,>=1.26.2 in /usr/local/lib/python3.11/dist-packages (from langchain-community>=0.3.9->open-deep-research) (2.0.2)\n",
            "Collecting groq<1,>=0.4.1 (from langchain-groq>=0.2.4->open-deep-research)\n",
            "  Downloading groq-0.22.0-py3-none-any.whl.metadata (15 kB)\n",
            "Collecting tiktoken<1,>=0.7 (from langchain-openai>=0.3.7->open-deep-research)\n",
            "  Downloading tiktoken-0.9.0-cp311-cp311-manylinux_2_17_x86_64.manylinux2014_x86_64.whl.metadata (6.7 kB)\n",
            "Collecting langgraph-checkpoint<3.0.0,>=2.0.10 (from langgraph>=0.2.55->open-deep-research)\n",
            "  Downloading langgraph_checkpoint-2.0.24-py3-none-any.whl.metadata (4.6 kB)\n",
            "Collecting langgraph-prebuilt<0.2,>=0.1.1 (from langgraph>=0.2.55->open-deep-research)\n",
            "  Downloading langgraph_prebuilt-0.1.8-py3-none-any.whl.metadata (5.0 kB)\n",
            "Collecting langgraph-sdk<0.2.0,>=0.1.42 (from langgraph>=0.2.55->open-deep-research)\n",
            "  Downloading langgraph_sdk-0.1.61-py3-none-any.whl.metadata (1.8 kB)\n",
            "Collecting xxhash<4.0.0,>=3.5.0 (from langgraph>=0.2.55->open-deep-research)\n",
            "  Downloading xxhash-3.5.0-cp311-cp311-manylinux_2_17_x86_64.manylinux2014_x86_64.whl.metadata (12 kB)\n",
            "Requirement already satisfied: anyio<5,>=3.5.0 in /usr/local/lib/python3.11/dist-packages (from openai>=1.61.0->open-deep-research) (4.9.0)\n",
            "Requirement already satisfied: distro<2,>=1.7.0 in /usr/local/lib/python3.11/dist-packages (from openai>=1.61.0->open-deep-research) (1.9.0)\n",
            "Requirement already satisfied: jiter<1,>=0.4.0 in /usr/local/lib/python3.11/dist-packages (from openai>=1.61.0->open-deep-research) (0.9.0)\n",
            "Requirement already satisfied: sniffio in /usr/local/lib/python3.11/dist-packages (from openai>=1.61.0->open-deep-research) (1.3.1)\n",
            "Requirement already satisfied: tqdm>4 in /usr/local/lib/python3.11/dist-packages (from openai>=1.61.0->open-deep-research) (4.67.1)\n",
            "Requirement already satisfied: aiohappyeyeballs>=2.3.0 in /usr/local/lib/python3.11/dist-packages (from aiohttp<4.0.0,>=3.8.3->langchain-community>=0.3.9->open-deep-research) (2.6.1)\n",
            "Requirement already satisfied: aiosignal>=1.1.2 in /usr/local/lib/python3.11/dist-packages (from aiohttp<4.0.0,>=3.8.3->langchain-community>=0.3.9->open-deep-research) (1.3.2)\n",
            "Requirement already satisfied: attrs>=17.3.0 in /usr/local/lib/python3.11/dist-packages (from aiohttp<4.0.0,>=3.8.3->langchain-community>=0.3.9->open-deep-research) (25.3.0)\n",
            "Requirement already satisfied: frozenlist>=1.1.1 in /usr/local/lib/python3.11/dist-packages (from aiohttp<4.0.0,>=3.8.3->langchain-community>=0.3.9->open-deep-research) (1.5.0)\n",
            "Requirement already satisfied: multidict<7.0,>=4.5 in /usr/local/lib/python3.11/dist-packages (from aiohttp<4.0.0,>=3.8.3->langchain-community>=0.3.9->open-deep-research) (6.3.0)\n",
            "Requirement already satisfied: propcache>=0.2.0 in /usr/local/lib/python3.11/dist-packages (from aiohttp<4.0.0,>=3.8.3->langchain-community>=0.3.9->open-deep-research) (0.3.1)\n",
            "Requirement already satisfied: yarl<2.0,>=1.17.0 in /usr/local/lib/python3.11/dist-packages (from aiohttp<4.0.0,>=3.8.3->langchain-community>=0.3.9->open-deep-research) (1.18.3)\n",
            "Requirement already satisfied: idna>=2.8 in /usr/local/lib/python3.11/dist-packages (from anyio<5,>=3.5.0->openai>=1.61.0->open-deep-research) (3.10)\n",
            "Collecting marshmallow<4.0.0,>=3.18.0 (from dataclasses-json<0.7,>=0.5.7->langchain-community>=0.3.9->open-deep-research)\n",
            "  Downloading marshmallow-3.26.1-py3-none-any.whl.metadata (7.3 kB)\n",
            "Collecting typing-inspect<1,>=0.4.0 (from dataclasses-json<0.7,>=0.5.7->langchain-community>=0.3.9->open-deep-research)\n",
            "  Downloading typing_inspect-0.9.0-py3-none-any.whl.metadata (1.5 kB)\n",
            "Collecting sgmllib3k (from feedparser~=6.0.10->arxiv>=2.1.3->open-deep-research)\n",
            "  Downloading sgmllib3k-1.0.0.tar.gz (5.8 kB)\n",
            "  Preparing metadata (setup.py) ... \u001b[?25l\u001b[?25hdone\n",
            "Requirement already satisfied: certifi in /usr/local/lib/python3.11/dist-packages (from httpx>=0.28.1->exa-py>=1.8.8->open-deep-research) (2025.1.31)\n",
            "Requirement already satisfied: httpcore==1.* in /usr/local/lib/python3.11/dist-packages (from httpx>=0.28.1->exa-py>=1.8.8->open-deep-research) (1.0.7)\n",
            "Requirement already satisfied: h11<0.15,>=0.13 in /usr/local/lib/python3.11/dist-packages (from httpcore==1.*->httpx>=0.28.1->exa-py>=1.8.8->open-deep-research) (0.14.0)\n",
            "Requirement already satisfied: langchain-text-splitters<1.0.0,>=0.3.7 in /usr/local/lib/python3.11/dist-packages (from langchain<1.0.0,>=0.3.21->langchain-community>=0.3.9->open-deep-research) (0.3.7)\n",
            "Requirement already satisfied: jsonpatch<2.0,>=1.33 in /usr/local/lib/python3.11/dist-packages (from langchain-core<1.0.0,>=0.3.45->langchain-anthropic>=0.3.9->open-deep-research) (1.33)\n",
            "Requirement already satisfied: packaging<25,>=23.2 in /usr/local/lib/python3.11/dist-packages (from langchain-core<1.0.0,>=0.3.45->langchain-anthropic>=0.3.9->open-deep-research) (24.2)\n",
            "Collecting ormsgpack<2.0.0,>=1.8.0 (from langgraph-checkpoint<3.0.0,>=2.0.10->langgraph>=0.2.55->open-deep-research)\n",
            "  Downloading ormsgpack-1.9.1-cp311-cp311-manylinux_2_17_x86_64.manylinux2014_x86_64.whl.metadata (43 kB)\n",
            "\u001b[2K     \u001b[90m━━━━━━━━━━━━━━━━━━━━━━━━━━━━━━━━━━━━━━━━\u001b[0m \u001b[32m43.5/43.5 kB\u001b[0m \u001b[31m2.8 MB/s\u001b[0m eta \u001b[36m0:00:00\u001b[0m\n",
            "\u001b[?25hRequirement already satisfied: orjson>=3.10.1 in /usr/local/lib/python3.11/dist-packages (from langgraph-sdk<0.2.0,>=0.1.42->langgraph>=0.2.55->open-deep-research) (3.10.16)\n",
            "Requirement already satisfied: requests-toolbelt<2.0.0,>=1.0.0 in /usr/local/lib/python3.11/dist-packages (from langsmith<0.4,>=0.1.125->langchain-community>=0.3.9->open-deep-research) (1.0.0)\n",
            "Requirement already satisfied: zstandard<0.24.0,>=0.23.0 in /usr/local/lib/python3.11/dist-packages (from langsmith<0.4,>=0.1.125->langchain-community>=0.3.9->open-deep-research) (0.23.0)\n",
            "Requirement already satisfied: annotated-types>=0.6.0 in /usr/local/lib/python3.11/dist-packages (from pydantic>=2.10.6->exa-py>=1.8.8->open-deep-research) (0.7.0)\n",
            "Requirement already satisfied: pydantic-core==2.33.0 in /usr/local/lib/python3.11/dist-packages (from pydantic>=2.10.6->exa-py>=1.8.8->open-deep-research) (2.33.0)\n",
            "Requirement already satisfied: typing-inspection>=0.4.0 in /usr/local/lib/python3.11/dist-packages (from pydantic>=2.10.6->exa-py>=1.8.8->open-deep-research) (0.4.0)\n",
            "Collecting python-dotenv>=0.21.0 (from pydantic-settings<3.0.0,>=2.4.0->langchain-community>=0.3.9->open-deep-research)\n",
            "  Downloading python_dotenv-1.1.0-py3-none-any.whl.metadata (24 kB)\n",
            "Requirement already satisfied: pytest>=6.2.5 in /usr/local/lib/python3.11/dist-packages (from pytest-mock>=3.14.0->exa-py>=1.8.8->open-deep-research) (8.3.5)\n",
            "Requirement already satisfied: charset-normalizer<4,>=2 in /usr/local/lib/python3.11/dist-packages (from requests~=2.32.0->arxiv>=2.1.3->open-deep-research) (3.4.1)\n",
            "Requirement already satisfied: urllib3<3,>=1.21.1 in /usr/local/lib/python3.11/dist-packages (from requests~=2.32.0->arxiv>=2.1.3->open-deep-research) (2.3.0)\n",
            "Requirement already satisfied: greenlet>=1 in /usr/local/lib/python3.11/dist-packages (from SQLAlchemy<3,>=1.4->langchain-community>=0.3.9->open-deep-research) (3.1.1)\n",
            "Requirement already satisfied: regex>=2022.1.18 in /usr/local/lib/python3.11/dist-packages (from tiktoken<1,>=0.7->langchain-openai>=0.3.7->open-deep-research) (2024.11.6)\n",
            "Requirement already satisfied: jsonpointer>=1.9 in /usr/local/lib/python3.11/dist-packages (from jsonpatch<2.0,>=1.33->langchain-core<1.0.0,>=0.3.45->langchain-anthropic>=0.3.9->open-deep-research) (3.0.0)\n",
            "Requirement already satisfied: iniconfig in /usr/local/lib/python3.11/dist-packages (from pytest>=6.2.5->pytest-mock>=3.14.0->exa-py>=1.8.8->open-deep-research) (2.1.0)\n",
            "Requirement already satisfied: pluggy<2,>=1.5 in /usr/local/lib/python3.11/dist-packages (from pytest>=6.2.5->pytest-mock>=3.14.0->exa-py>=1.8.8->open-deep-research) (1.5.0)\n",
            "Collecting mypy-extensions>=0.3.0 (from typing-inspect<1,>=0.4.0->dataclasses-json<0.7,>=0.5.7->langchain-community>=0.3.9->open-deep-research)\n",
            "  Downloading mypy_extensions-1.0.0-py3-none-any.whl.metadata (1.1 kB)\n",
            "Downloading open_deep_research-0.0.10-py3-none-any.whl (23 kB)\n",
            "Downloading arxiv-2.1.3-py3-none-any.whl (11 kB)\n",
            "Downloading duckduckgo_search-2025.4.1-cp311-cp311-manylinux_2_17_x86_64.manylinux2014_x86_64.whl (77 kB)\n",
            "\u001b[2K   \u001b[90m━━━━━━━━━━━━━━━━━━━━━━━━━━━━━━━━━━━━━━━━\u001b[0m \u001b[32m77.6/77.6 kB\u001b[0m \u001b[31m5.9 MB/s\u001b[0m eta \u001b[36m0:00:00\u001b[0m\n",
            "\u001b[?25hDownloading exa_py-1.10.0-py3-none-any.whl (25 kB)\n",
            "Downloading langchain_anthropic-0.3.10-py3-none-any.whl (25 kB)\n",
            "Downloading langchain_community-0.3.20-py3-none-any.whl (2.5 MB)\n",
            "\u001b[2K   \u001b[90m━━━━━━━━━━━━━━━━━━━━━━━━━━━━━━━━━━━━━━━━\u001b[0m \u001b[32m2.5/2.5 MB\u001b[0m \u001b[31m36.6 MB/s\u001b[0m eta \u001b[36m0:00:00\u001b[0m\n",
            "\u001b[?25hDownloading langchain_groq-0.3.2-py3-none-any.whl (15 kB)\n",
            "Downloading langchain_openai-0.3.12-py3-none-any.whl (61 kB)\n",
            "\u001b[2K   \u001b[90m━━━━━━━━━━━━━━━━━━━━━━━━━━━━━━━━━━━━━━━━\u001b[0m \u001b[32m61.3/61.3 kB\u001b[0m \u001b[31m4.0 MB/s\u001b[0m eta \u001b[36m0:00:00\u001b[0m\n",
            "\u001b[?25hDownloading langgraph-0.3.25-py3-none-any.whl (142 kB)\n",
            "\u001b[2K   \u001b[90m━━━━━━━━━━━━━━━━━━━━━━━━━━━━━━━━━━━━━━━━\u001b[0m \u001b[32m142.4/142.4 kB\u001b[0m \u001b[31m9.8 MB/s\u001b[0m eta \u001b[36m0:00:00\u001b[0m\n",
            "\u001b[?25hDownloading linkup_sdk-0.2.4-py3-none-any.whl (8.3 kB)\n",
            "Downloading pymupdf-1.25.5-cp39-abi3-manylinux2014_x86_64.manylinux_2_17_x86_64.whl (20.0 MB)\n",
            "\u001b[2K   \u001b[90m━━━━━━━━━━━━━━━━━━━━━━━━━━━━━━━━━━━━━━━━\u001b[0m \u001b[32m20.0/20.0 MB\u001b[0m \u001b[31m35.9 MB/s\u001b[0m eta \u001b[36m0:00:00\u001b[0m\n",
            "\u001b[?25hDownloading tavily_python-0.5.4-py3-none-any.whl (44 kB)\n",
            "\u001b[2K   \u001b[90m━━━━━━━━━━━━━━━━━━━━━━━━━━━━━━━━━━━━━━━━\u001b[0m \u001b[32m44.4/44.4 kB\u001b[0m \u001b[31m2.7 MB/s\u001b[0m eta \u001b[36m0:00:00\u001b[0m\n",
            "\u001b[?25hDownloading xmltodict-0.14.2-py2.py3-none-any.whl (10.0 kB)\n",
            "Downloading anthropic-0.49.0-py3-none-any.whl (243 kB)\n",
            "\u001b[2K   \u001b[90m━━━━━━━━━━━━━━━━━━━━━━━━━━━━━━━━━━━━━━━━\u001b[0m \u001b[32m243.4/243.4 kB\u001b[0m \u001b[31m14.6 MB/s\u001b[0m eta \u001b[36m0:00:00\u001b[0m\n",
            "\u001b[?25hDownloading dataclasses_json-0.6.7-py3-none-any.whl (28 kB)\n",
            "Downloading feedparser-6.0.11-py3-none-any.whl (81 kB)\n",
            "\u001b[2K   \u001b[90m━━━━━━━━━━━━━━━━━━━━━━━━━━━━━━━━━━━━━━━━\u001b[0m \u001b[32m81.3/81.3 kB\u001b[0m \u001b[31m5.7 MB/s\u001b[0m eta \u001b[36m0:00:00\u001b[0m\n",
            "\u001b[?25hDownloading groq-0.22.0-py3-none-any.whl (126 kB)\n",
            "\u001b[2K   \u001b[90m━━━━━━━━━━━━━━━━━━━━━━━━━━━━━━━━━━━━━━━━\u001b[0m \u001b[32m126.7/126.7 kB\u001b[0m \u001b[31m8.2 MB/s\u001b[0m eta \u001b[36m0:00:00\u001b[0m\n",
            "\u001b[?25hDownloading httpx_sse-0.4.0-py3-none-any.whl (7.8 kB)\n",
            "Downloading langgraph_checkpoint-2.0.24-py3-none-any.whl (42 kB)\n",
            "\u001b[2K   \u001b[90m━━━━━━━━━━━━━━━━━━━━━━━━━━━━━━━━━━━━━━━━\u001b[0m \u001b[32m42.0/42.0 kB\u001b[0m \u001b[31m2.4 MB/s\u001b[0m eta \u001b[36m0:00:00\u001b[0m\n",
            "\u001b[?25hDownloading langgraph_prebuilt-0.1.8-py3-none-any.whl (25 kB)\n",
            "Downloading langgraph_sdk-0.1.61-py3-none-any.whl (47 kB)\n",
            "\u001b[2K   \u001b[90m━━━━━━━━━━━━━━━━━━━━━━━━━━━━━━━━━━━━━━━━\u001b[0m \u001b[32m47.2/47.2 kB\u001b[0m \u001b[31m3.1 MB/s\u001b[0m eta \u001b[36m0:00:00\u001b[0m\n",
            "\u001b[?25hDownloading primp-0.14.0-cp38-abi3-manylinux_2_17_x86_64.manylinux2014_x86_64.whl (3.3 MB)\n",
            "\u001b[2K   \u001b[90m━━━━━━━━━━━━━━━━━━━━━━━━━━━━━━━━━━━━━━━━\u001b[0m \u001b[32m3.3/3.3 MB\u001b[0m \u001b[31m70.0 MB/s\u001b[0m eta \u001b[36m0:00:00\u001b[0m\n",
            "\u001b[?25hDownloading pydantic_settings-2.8.1-py3-none-any.whl (30 kB)\n",
            "Downloading pytest_mock-3.14.0-py3-none-any.whl (9.9 kB)\n",
            "Downloading tiktoken-0.9.0-cp311-cp311-manylinux_2_17_x86_64.manylinux2014_x86_64.whl (1.2 MB)\n",
            "\u001b[2K   \u001b[90m━━━━━━━━━━━━━━━━━━━━━━━━━━━━━━━━━━━━━━━━\u001b[0m \u001b[32m1.2/1.2 MB\u001b[0m \u001b[31m47.2 MB/s\u001b[0m eta \u001b[36m0:00:00\u001b[0m\n",
            "\u001b[?25hDownloading xxhash-3.5.0-cp311-cp311-manylinux_2_17_x86_64.manylinux2014_x86_64.whl (194 kB)\n",
            "\u001b[2K   \u001b[90m━━━━━━━━━━━━━━━━━━━━━━━━━━━━━━━━━━━━━━━━\u001b[0m \u001b[32m194.8/194.8 kB\u001b[0m \u001b[31m13.5 MB/s\u001b[0m eta \u001b[36m0:00:00\u001b[0m\n",
            "\u001b[?25hDownloading marshmallow-3.26.1-py3-none-any.whl (50 kB)\n",
            "\u001b[2K   \u001b[90m━━━━━━━━━━━━━━━━━━━━━━━━━━━━━━━━━━━━━━━━\u001b[0m \u001b[32m50.9/50.9 kB\u001b[0m \u001b[31m3.5 MB/s\u001b[0m eta \u001b[36m0:00:00\u001b[0m\n",
            "\u001b[?25hDownloading ormsgpack-1.9.1-cp311-cp311-manylinux_2_17_x86_64.manylinux2014_x86_64.whl (223 kB)\n",
            "\u001b[2K   \u001b[90m━━━━━━━━━━━━━━━━━━━━━━━━━━━━━━━━━━━━━━━━\u001b[0m \u001b[32m223.6/223.6 kB\u001b[0m \u001b[31m14.4 MB/s\u001b[0m eta \u001b[36m0:00:00\u001b[0m\n",
            "\u001b[?25hDownloading python_dotenv-1.1.0-py3-none-any.whl (20 kB)\n",
            "Downloading typing_inspect-0.9.0-py3-none-any.whl (8.8 kB)\n",
            "Downloading mypy_extensions-1.0.0-py3-none-any.whl (4.7 kB)\n",
            "Building wheels for collected packages: sgmllib3k\n",
            "  Building wheel for sgmllib3k (setup.py) ... \u001b[?25l\u001b[?25hdone\n",
            "  Created wheel for sgmllib3k: filename=sgmllib3k-1.0.0-py3-none-any.whl size=6046 sha256=7465e1727741034317d2477f0a0048c32d51e09697b1fd344d236313ecc24b75\n",
            "  Stored in directory: /root/.cache/pip/wheels/3b/25/2a/105d6a15df6914f4d15047691c6c28f9052cc1173e40285d03\n",
            "Successfully built sgmllib3k\n",
            "Installing collected packages: sgmllib3k, xxhash, xmltodict, python-dotenv, pymupdf, primp, ormsgpack, mypy-extensions, marshmallow, httpx-sse, feedparser, typing-inspect, tiktoken, pytest-mock, duckduckgo-search, arxiv, tavily-python, pydantic-settings, linkup-sdk, langgraph-sdk, groq, dataclasses-json, anthropic, exa-py, langgraph-checkpoint, langchain-openai, langchain-groq, langchain-anthropic, langgraph-prebuilt, langgraph, langchain-community, open-deep-research\n",
            "Successfully installed anthropic-0.49.0 arxiv-2.1.3 dataclasses-json-0.6.7 duckduckgo-search-2025.4.1 exa-py-1.10.0 feedparser-6.0.11 groq-0.22.0 httpx-sse-0.4.0 langchain-anthropic-0.3.10 langchain-community-0.3.20 langchain-groq-0.3.2 langchain-openai-0.3.12 langgraph-0.3.25 langgraph-checkpoint-2.0.24 langgraph-prebuilt-0.1.8 langgraph-sdk-0.1.61 linkup-sdk-0.2.4 marshmallow-3.26.1 mypy-extensions-1.0.0 open-deep-research-0.0.10 ormsgpack-1.9.1 primp-0.14.0 pydantic-settings-2.8.1 pymupdf-1.25.5 pytest-mock-3.14.0 python-dotenv-1.1.0 sgmllib3k-1.0.0 tavily-python-0.5.4 tiktoken-0.9.0 typing-inspect-0.9.0 xmltodict-0.14.2 xxhash-3.5.0\n"
          ]
        }
      ]
    },
    {
      "cell_type": "code",
      "source": [
        "# Importing necessary modules\n",
        "from langchain_community.document_loaders import ScrapingAntLoader\n",
        "from langchain_openai import ChatOpenAI\n",
        "from langchain_core.prompts import ChatPromptTemplate\n",
        "from langchain_core.runnables import RunnableConfig, chain"
      ],
      "metadata": {
        "id": "AmoL5oypfoSR"
      },
      "execution_count": null,
      "outputs": []
    },
    {
      "cell_type": "markdown",
      "source": [],
      "metadata": {
        "id": "qBIPU0jwfrsc"
      }
    },
    {
      "cell_type": "code",
      "source": [
        "from langgraph.checkpoint.memory import MemorySaver\n",
        "from open_deep_research.graph import builder\n",
        "memory = MemorySaver()\n",
        "graph = builder.compile(checkpointer=memory)"
      ],
      "metadata": {
        "id": "nRNphjOEddju"
      },
      "execution_count": 3,
      "outputs": []
    },
    {
      "cell_type": "code",
      "source": [
        "import uuid\n",
        "thread = {\"configurable\": {\n",
        "                            \"thread_id\": str(uuid.uuid4()),\n",
        "                            \"search_api\": \"tavily\",\n",
        "                            \"planner_provider\": \"groq\",\n",
        "                            \"planner_model\": \"llama-3.3-70b-versatile\",\n",
        "                            \"writer_provider\": \"groq\",\n",
        "                            \"writer_model\": \"llama-3.3-70b-versatile\",\n",
        "                            \"max_search_depth\": 3,\n",
        "                           }\n",
        "          }"
      ],
      "metadata": {
        "id": "bGdK6V7ndpDL"
      },
      "execution_count": 4,
      "outputs": []
    },
    {
      "cell_type": "code",
      "source": [
        "# @title Enter your Research Topic\n",
        "# @markdown Open research will use Tavily to deep Research about the Topic\n",
        "topic = \"Is it true that Muslims will be charged a New Tax from September of 2025 in India?\" # @param {\"type\":\"string\"}\n",
        "async for event in graph.astream({\"topic\":topic,}, thread, stream_mode=\"updates\"):\n",
        "    ...\n",
        "    #print(event)\n",
        "\n",
        "print(event['__interrupt__'][0].value)"
      ],
      "metadata": {
        "colab": {
          "base_uri": "https://localhost:8080/"
        },
        "id": "RwXlS7Azd81O",
        "outputId": "d224d83d-5381-4a19-e9c5-ebe0d9410aea"
      },
      "execution_count": 10,
      "outputs": [
        {
          "output_type": "stream",
          "name": "stdout",
          "text": [
            "{'generate_report_plan': {'sections': [Section(name='Introduction', description='Brief overview of the topic area', research=False, content=''), Section(name='Overview of Waqf Amendment Bill 2025', description='Explanation of the Waqf Amendment Bill 2025 and its implications', research=True, content=''), Section(name='New Income Tax Bill 2025', description='Explanation of the New Income Tax Bill 2025 and its relevance to the topic', research=True, content=''), Section(name='Comparison and Analysis', description='Comparison of the Waqf Amendment Bill 2025 and the New Income Tax Bill 2025', research=True, content=''), Section(name='Conclusion', description=\"Summary of the report's findings\", research=False, content='')]}}\n",
            "{'__interrupt__': (Interrupt(value=\"Please provide feedback on the following report plan. \\n                        \\n\\nSection: Introduction\\nDescription: Brief overview of the topic area\\nResearch needed: No\\n\\n\\nSection: Overview of Waqf Amendment Bill 2025\\nDescription: Explanation of the Waqf Amendment Bill 2025 and its implications\\nResearch needed: Yes\\n\\n\\nSection: New Income Tax Bill 2025\\nDescription: Explanation of the New Income Tax Bill 2025 and its relevance to the topic\\nResearch needed: Yes\\n\\n\\nSection: Comparison and Analysis\\nDescription: Comparison of the Waqf Amendment Bill 2025 and the New Income Tax Bill 2025\\nResearch needed: Yes\\n\\n\\nSection: Conclusion\\nDescription: Summary of the report's findings\\nResearch needed: No\\n\\n\\n                        \\nDoes the report plan meet your needs?\\nPass 'true' to approve the report plan.\\nOr, provide feedback to regenerate the report plan:\", resumable=True, ns=['human_feedback:36420ef6-9afd-44d6-e59b-a312b33a262c']),)}\n",
            "Please provide feedback on the following report plan. \n",
            "                        \n",
            "\n",
            "Section: Introduction\n",
            "Description: Brief overview of the topic area\n",
            "Research needed: No\n",
            "\n",
            "\n",
            "Section: Overview of Waqf Amendment Bill 2025\n",
            "Description: Explanation of the Waqf Amendment Bill 2025 and its implications\n",
            "Research needed: Yes\n",
            "\n",
            "\n",
            "Section: New Income Tax Bill 2025\n",
            "Description: Explanation of the New Income Tax Bill 2025 and its relevance to the topic\n",
            "Research needed: Yes\n",
            "\n",
            "\n",
            "Section: Comparison and Analysis\n",
            "Description: Comparison of the Waqf Amendment Bill 2025 and the New Income Tax Bill 2025\n",
            "Research needed: Yes\n",
            "\n",
            "\n",
            "Section: Conclusion\n",
            "Description: Summary of the report's findings\n",
            "Research needed: No\n",
            "\n",
            "\n",
            "                        \n",
            "Does the report plan meet your needs?\n",
            "Pass 'true' to approve the report plan.\n",
            "Or, provide feedback to regenerate the report plan:\n"
          ]
        }
      ]
    },
    {
      "cell_type": "code",
      "source": [
        "from langgraph.types import Command\n",
        "async for event in graph.astream(\n",
        "        Command(\n",
        "resume = True # @param {\"type\":\"raw\"}\n",
        "        ),\n",
        "        thread,\n",
        "        stream_mode=\"updates\"\n",
        "    ):\n",
        "    ...\n",
        "print(event['compile_final_report']['final_report'])"
      ],
      "metadata": {
        "colab": {
          "base_uri": "https://localhost:8080/"
        },
        "id": "KHIMDzqMgF-z",
        "outputId": "d157443d-dca9-4b8b-cbb7-740bcf38a2e0"
      },
      "execution_count": 12,
      "outputs": [
        {
          "output_type": "stream",
          "name": "stdout",
          "text": [
            "{'build_section_with_web_research': {'completed_sections': [Section(name='Comparison and Analysis', description='Comparison of the Waqf Amendment Bill 2025 and the New Income Tax Bill 2025', research=True, content=\"## Comparison and Analysis\\nThe Waqf (Amendment) Bill 2025 and the New Income Tax Bill 2025 have been subjects of intense debate in India. According to sources [1] and [7], the Waqf Bill aims to reform the management of Waqf properties, focusing on transparency and inclusivity. There is no mention of a new tax being imposed on Muslims in the provided sources. \\n\\nThe Waqf Amendment Bill allows for the removal of Section 107 and brings the Waqf Board under the purview of the Limitation Act 1963, as stated in source [2]. The New Income Tax Bill 2025 is not directly related to the Waqf Bill, and its provisions do not specifically target Muslims.\\n\\n### Sources\\n[1] Modi government ignores 'anti-Muslim' outcry as Lok ... - Telegraph India: https://www.telegraphindia.com/india/modi-government-ignores-anti-muslim-outcry-as-lok-sabha-passes-waqf-amendment-bill-2025/cid/2092118\\n[2] Waqf Amendment Bill 2025: 5 Key Reasons Why Muslims Are Angry About The ...: https://news24online.com/india/waqf-amendment-bill-2025-5-key-reasons-why-muslims-are-angry-about-the-new-changes/519511/\\n[3] India's Lower House passes controversial bill that would change Muslim ...: https://www.pbs.org/newshour/world/indias-lower-house-passes-controversial-bill-that-would-change-muslim-land-endowments\\n[4] Indian parliament's lower house passes controversial Muslim endowments ...: https://www.aljazeera.com/news/2025/4/3/indian-parliaments-lower-house-passes-controversial-muslim-endowments-bill\\n[5] India Parliament Passes Controversial Muslim Property Law: https://www.bloomberg.com/news/articles/2025-04-04/india-parliament-passes-controversial-muslim-property-law\\n[6] Waqf (Amendment) Bill 2025: Key Changes, Issues & Impact on Minority ...: https://www.insightsonindia.com/2025/04/03/the-waqf-amendment-bill-2025/\\n[7] The Waqf (Amendment) Bill 2025: A Comprehensive Analysis Of Reforms ...: https://www.realshepower.in/the-waqf-amendment-bill-2025-analysis/\")]}}\n",
            "{'build_section_with_web_research': {'completed_sections': [Section(name='Overview of Waqf Amendment Bill 2025', description='Explanation of the Waqf Amendment Bill 2025 and its implications', research=True, content='## Overview of Waqf Amendment Bill 2025\\nThe Waqf Amendment Bill 2025 has been passed in both the Lok Sabha and Rajya Sabha, aiming to reform the management of Waqf properties in India. The bill brings significant changes, including the removal of Section 107 and the application of the Limitation Act 1963 to Waqf Boards. It also modifies the composition of State Waqf Boards and allows for the use of designated properties for affordable housing projects and other social initiatives.\\n\\nThe bill has sparked controversy, with some Muslims opposing it due to concerns about its impact on institutional autonomy and community rights. However, the government claims that the changes are necessary to root out corruption and promote social welfare, with measures such as greater representation of women in Waqf Boards and support for initiatives like scholarships for Muslim girls.\\n\\n### Sources\\n[1] https://news24online.com/india/waqf-amendment-bill-2025-5-key-reasons-why-muslims-are-angry-about-the-new-changes/519511/\\n[2] https://abcnews.go.com/International/wireStory/indias-parliament-passes-controversial-bill-change-muslim-endowments-120436424\\n[3] https://www.pbs.org/newshour/world/indias-lower-house-passes-controversial-bill-that-would-change-muslim-land-endowments\\n[4] https://www.aljazeera.com/news/2025/4/3/indian-parliaments-lower-house-passes-controversial-muslim-endowments-bill\\n[5] https://static.pib.gov.in/WriteReadData/specificdocs/documents/2025/apr/doc202543531701.pdf\\n[6] https://ddnews.gov.in/en/understanding-waqf-and-the-2025-amendment-key-reforms-challenges-and-implications/\\n[7] https://www.realshepower.in/the-waqf-amendment-bill-2025-analysis/\\n[8] https://timesofindia.indiatimes.com/india/waqf-amendment-bill-why-muslims-are-opposing-it/articleshow/119905795.cms\\n[9] https://www.onmanorama.com/news/india/2025/04/03/waqf-amendment-bill-key-provisions-non-muslim-members-wakf-tribunal-changes-explained.html\\n[10] https://www.livemint.com/politics/news/waqf-bill-in-lok-sabha-a-complete-guide-to-controversy-amendments-and-nda-vs-india-showdown-11743557815392.html')]}}\n",
            "{'build_section_with_web_research': {'completed_sections': [Section(name='New Income Tax Bill 2025', description='Explanation of the New Income Tax Bill 2025 and its relevance to the topic', research=True, content=\"## New Income Tax Bill 2025\\nThe New Income Tax Bill 2025 is a proposed legislation aimed at modernizing India's tax system. However, the recent controversy surrounding the Waqf Amendment Bill has sparked concerns among Muslims about potential control over their properties. The Waqf Amendment Bill allows for the removal of Section 107 and brings the Waqf Board under the purview of the Limitation Act 1963, giving the government greater control over Muslim properties.\\n\\nThe bill has been met with opposition, with many fearing it will give the Hindu nationalist government greater control over Muslim properties. The New Income Tax Bill 2025 itself focuses on simplifying tax laws and reducing litigation, but its relevance to the topic of a new tax on Muslims is unclear.\\n### Sources\\n[1] https://www.jagranjosh.com/general-knowledge/what-is-the-new-income-tax-bill-explained-1739197540-1\\n[2] https://timesofindia.indiatimes.com/business/india-business/new-income-tax-bill-2025-explained-top-30-faqs-every-taxpayer-should-check/articleshow/118242116.cms\\n[3] https://www.india-briefing.com/news/indias-new-income-tax-bill-2025-an-overview-36160.html/\\n[4] https://www.aljazeera.com/news/2025/4/3/indian-parliaments-lower-house-passes-controversial-muslim-endowments-bill\\n[5] https://www.pbs.org/newshour/world/indias-lower-house-passes-controversial-bill-that-would-change-muslim-land-endowments\\n[6] https://www.telegraphindia.com/india/modi-government-ignores-anti-muslim-outcry-as-lok-sabha-passes-waqf-amendment-bill-2025/cid/2092118\\n[7] https://news24online.com/india/waqf-amendment-bill-2025-5-key-reasons-why-muslims-are-angry-about-the-new-changes/519511/\\n[8] https://frontline.thehindu.com/politics/waqf-amendment-bill-2024-parliament-debate-nda-vs-india-impact-muslims/article69401154.ece\\n[9] https://gulfnews.com/world/asia/india/what-is-waqf-amendment-bill-2024-key-changes-and-their-impact-on-governance-and-property-management-1.500081903\\n[10] https://www.bbc.com/news/articles/cwy744983e3o\\n[11] https://apnews.com/article/india-muslim-endowments-waqf-parliament-4fb3ce70dbd2e579bccc43ce1e245f6d\\n[12] https://www.realclearreligion.org/2025/04/03/india_passes_controversial_bill_that_would_change_muslim_endowments_1101782.html\")]}}\n",
            "{'gather_completed_sections': {'report_sections_from_research': \"\\n============================================================\\nSection 1: Overview of Waqf Amendment Bill 2025\\n============================================================\\nDescription:\\nExplanation of the Waqf Amendment Bill 2025 and its implications\\nRequires Research: \\nTrue\\n\\nContent:\\n## Overview of Waqf Amendment Bill 2025\\nThe Waqf Amendment Bill 2025 has been passed in both the Lok Sabha and Rajya Sabha, aiming to reform the management of Waqf properties in India. The bill brings significant changes, including the removal of Section 107 and the application of the Limitation Act 1963 to Waqf Boards. It also modifies the composition of State Waqf Boards and allows for the use of designated properties for affordable housing projects and other social initiatives.\\n\\nThe bill has sparked controversy, with some Muslims opposing it due to concerns about its impact on institutional autonomy and community rights. However, the government claims that the changes are necessary to root out corruption and promote social welfare, with measures such as greater representation of women in Waqf Boards and support for initiatives like scholarships for Muslim girls.\\n\\n### Sources\\n[1] https://news24online.com/india/waqf-amendment-bill-2025-5-key-reasons-why-muslims-are-angry-about-the-new-changes/519511/\\n[2] https://abcnews.go.com/International/wireStory/indias-parliament-passes-controversial-bill-change-muslim-endowments-120436424\\n[3] https://www.pbs.org/newshour/world/indias-lower-house-passes-controversial-bill-that-would-change-muslim-land-endowments\\n[4] https://www.aljazeera.com/news/2025/4/3/indian-parliaments-lower-house-passes-controversial-muslim-endowments-bill\\n[5] https://static.pib.gov.in/WriteReadData/specificdocs/documents/2025/apr/doc202543531701.pdf\\n[6] https://ddnews.gov.in/en/understanding-waqf-and-the-2025-amendment-key-reforms-challenges-and-implications/\\n[7] https://www.realshepower.in/the-waqf-amendment-bill-2025-analysis/\\n[8] https://timesofindia.indiatimes.com/india/waqf-amendment-bill-why-muslims-are-opposing-it/articleshow/119905795.cms\\n[9] https://www.onmanorama.com/news/india/2025/04/03/waqf-amendment-bill-key-provisions-non-muslim-members-wakf-tribunal-changes-explained.html\\n[10] https://www.livemint.com/politics/news/waqf-bill-in-lok-sabha-a-complete-guide-to-controversy-amendments-and-nda-vs-india-showdown-11743557815392.html\\n\\n\\n============================================================\\nSection 2: New Income Tax Bill 2025\\n============================================================\\nDescription:\\nExplanation of the New Income Tax Bill 2025 and its relevance to the topic\\nRequires Research: \\nTrue\\n\\nContent:\\n## New Income Tax Bill 2025\\nThe New Income Tax Bill 2025 is a proposed legislation aimed at modernizing India's tax system. However, the recent controversy surrounding the Waqf Amendment Bill has sparked concerns among Muslims about potential control over their properties. The Waqf Amendment Bill allows for the removal of Section 107 and brings the Waqf Board under the purview of the Limitation Act 1963, giving the government greater control over Muslim properties.\\n\\nThe bill has been met with opposition, with many fearing it will give the Hindu nationalist government greater control over Muslim properties. The New Income Tax Bill 2025 itself focuses on simplifying tax laws and reducing litigation, but its relevance to the topic of a new tax on Muslims is unclear.\\n### Sources\\n[1] https://www.jagranjosh.com/general-knowledge/what-is-the-new-income-tax-bill-explained-1739197540-1\\n[2] https://timesofindia.indiatimes.com/business/india-business/new-income-tax-bill-2025-explained-top-30-faqs-every-taxpayer-should-check/articleshow/118242116.cms\\n[3] https://www.india-briefing.com/news/indias-new-income-tax-bill-2025-an-overview-36160.html/\\n[4] https://www.aljazeera.com/news/2025/4/3/indian-parliaments-lower-house-passes-controversial-muslim-endowments-bill\\n[5] https://www.pbs.org/newshour/world/indias-lower-house-passes-controversial-bill-that-would-change-muslim-land-endowments\\n[6] https://www.telegraphindia.com/india/modi-government-ignores-anti-muslim-outcry-as-lok-sabha-passes-waqf-amendment-bill-2025/cid/2092118\\n[7] https://news24online.com/india/waqf-amendment-bill-2025-5-key-reasons-why-muslims-are-angry-about-the-new-changes/519511/\\n[8] https://frontline.thehindu.com/politics/waqf-amendment-bill-2024-parliament-debate-nda-vs-india-impact-muslims/article69401154.ece\\n[9] https://gulfnews.com/world/asia/india/what-is-waqf-amendment-bill-2024-key-changes-and-their-impact-on-governance-and-property-management-1.500081903\\n[10] https://www.bbc.com/news/articles/cwy744983e3o\\n[11] https://apnews.com/article/india-muslim-endowments-waqf-parliament-4fb3ce70dbd2e579bccc43ce1e245f6d\\n[12] https://www.realclearreligion.org/2025/04/03/india_passes_controversial_bill_that_would_change_muslim_endowments_1101782.html\\n\\n\\n============================================================\\nSection 3: Comparison and Analysis\\n============================================================\\nDescription:\\nComparison of the Waqf Amendment Bill 2025 and the New Income Tax Bill 2025\\nRequires Research: \\nTrue\\n\\nContent:\\n## Comparison and Analysis\\nThe Waqf (Amendment) Bill 2025 and the New Income Tax Bill 2025 have been subjects of intense debate in India. According to sources [1] and [7], the Waqf Bill aims to reform the management of Waqf properties, focusing on transparency and inclusivity. There is no mention of a new tax being imposed on Muslims in the provided sources. \\n\\nThe Waqf Amendment Bill allows for the removal of Section 107 and brings the Waqf Board under the purview of the Limitation Act 1963, as stated in source [2]. The New Income Tax Bill 2025 is not directly related to the Waqf Bill, and its provisions do not specifically target Muslims.\\n\\n### Sources\\n[1] Modi government ignores 'anti-Muslim' outcry as Lok ... - Telegraph India: https://www.telegraphindia.com/india/modi-government-ignores-anti-muslim-outcry-as-lok-sabha-passes-waqf-amendment-bill-2025/cid/2092118\\n[2] Waqf Amendment Bill 2025: 5 Key Reasons Why Muslims Are Angry About The ...: https://news24online.com/india/waqf-amendment-bill-2025-5-key-reasons-why-muslims-are-angry-about-the-new-changes/519511/\\n[3] India's Lower House passes controversial bill that would change Muslim ...: https://www.pbs.org/newshour/world/indias-lower-house-passes-controversial-bill-that-would-change-muslim-land-endowments\\n[4] Indian parliament's lower house passes controversial Muslim endowments ...: https://www.aljazeera.com/news/2025/4/3/indian-parliaments-lower-house-passes-controversial-muslim-endowments-bill\\n[5] India Parliament Passes Controversial Muslim Property Law: https://www.bloomberg.com/news/articles/2025-04-04/india-parliament-passes-controversial-muslim-property-law\\n[6] Waqf (Amendment) Bill 2025: Key Changes, Issues & Impact on Minority ...: https://www.insightsonindia.com/2025/04/03/the-waqf-amendment-bill-2025/\\n[7] The Waqf (Amendment) Bill 2025: A Comprehensive Analysis Of Reforms ...: https://www.realshepower.in/the-waqf-amendment-bill-2025-analysis/\\n\\n\"}}\n",
            "{'write_final_sections': {'completed_sections': [Section(name='Introduction', description='Brief overview of the topic area', research=False, content='# Introduction to New Tax on Muslims in India\\nThe Indian government has introduced the Waqf Amendment Bill 2025, sparking controversy among Muslims. Concerns have been raised about a potential new tax on Muslims, but the available information does not confirm this. This report aims to provide an overview of the Waqf Amendment Bill 2025 and its implications for Muslims in India.')]}}\n",
            "{'write_final_sections': {'completed_sections': [Section(name='Conclusion', description=\"Summary of the report's findings\", research=False, content='# Is it true that Muslims will be charged a New Tax from September of 2025 in India?\\nThe report investigates the Waqf Amendment Bill 2025 and its implications for Muslims in India, as well as the New Income Tax Bill 2025.\\n\\n## Conclusion\\nThe Waqf Amendment Bill 2025 and the New Income Tax Bill 2025 have been subjects of intense debate in India. \\n* The Waqf Amendment Bill aims to reform the management of Waqf properties.\\n* The New Income Tax Bill 2025 focuses on simplifying tax laws and reducing litigation.\\nThere is no mention of a new tax being imposed on Muslims in the provided sources. The next step is to monitor the implementation of these bills and their impact on the Muslim community in India.')]}}\n",
            "{'compile_final_report': {'final_report': \"# Introduction to New Tax on Muslims in India\\nThe Indian government has introduced the Waqf Amendment Bill 2025, sparking controversy among Muslims. Concerns have been raised about a potential new tax on Muslims, but the available information does not confirm this. This report aims to provide an overview of the Waqf Amendment Bill 2025 and its implications for Muslims in India.\\n\\n## Overview of Waqf Amendment Bill 2025\\nThe Waqf Amendment Bill 2025 has been passed in both the Lok Sabha and Rajya Sabha, aiming to reform the management of Waqf properties in India. The bill brings significant changes, including the removal of Section 107 and the application of the Limitation Act 1963 to Waqf Boards. It also modifies the composition of State Waqf Boards and allows for the use of designated properties for affordable housing projects and other social initiatives.\\n\\nThe bill has sparked controversy, with some Muslims opposing it due to concerns about its impact on institutional autonomy and community rights. However, the government claims that the changes are necessary to root out corruption and promote social welfare, with measures such as greater representation of women in Waqf Boards and support for initiatives like scholarships for Muslim girls.\\n\\n### Sources\\n[1] https://news24online.com/india/waqf-amendment-bill-2025-5-key-reasons-why-muslims-are-angry-about-the-new-changes/519511/\\n[2] https://abcnews.go.com/International/wireStory/indias-parliament-passes-controversial-bill-change-muslim-endowments-120436424\\n[3] https://www.pbs.org/newshour/world/indias-lower-house-passes-controversial-bill-that-would-change-muslim-land-endowments\\n[4] https://www.aljazeera.com/news/2025/4/3/indian-parliaments-lower-house-passes-controversial-muslim-endowments-bill\\n[5] https://static.pib.gov.in/WriteReadData/specificdocs/documents/2025/apr/doc202543531701.pdf\\n[6] https://ddnews.gov.in/en/understanding-waqf-and-the-2025-amendment-key-reforms-challenges-and-implications/\\n[7] https://www.realshepower.in/the-waqf-amendment-bill-2025-analysis/\\n[8] https://timesofindia.indiatimes.com/india/waqf-amendment-bill-why-muslims-are-opposing-it/articleshow/119905795.cms\\n[9] https://www.onmanorama.com/news/india/2025/04/03/waqf-amendment-bill-key-provisions-non-muslim-members-wakf-tribunal-changes-explained.html\\n[10] https://www.livemint.com/politics/news/waqf-bill-in-lok-sabha-a-complete-guide-to-controversy-amendments-and-nda-vs-india-showdown-11743557815392.html\\n\\n## New Income Tax Bill 2025\\nThe New Income Tax Bill 2025 is a proposed legislation aimed at modernizing India's tax system. However, the recent controversy surrounding the Waqf Amendment Bill has sparked concerns among Muslims about potential control over their properties. The Waqf Amendment Bill allows for the removal of Section 107 and brings the Waqf Board under the purview of the Limitation Act 1963, giving the government greater control over Muslim properties.\\n\\nThe bill has been met with opposition, with many fearing it will give the Hindu nationalist government greater control over Muslim properties. The New Income Tax Bill 2025 itself focuses on simplifying tax laws and reducing litigation, but its relevance to the topic of a new tax on Muslims is unclear.\\n### Sources\\n[1] https://www.jagranjosh.com/general-knowledge/what-is-the-new-income-tax-bill-explained-1739197540-1\\n[2] https://timesofindia.indiatimes.com/business/india-business/new-income-tax-bill-2025-explained-top-30-faqs-every-taxpayer-should-check/articleshow/118242116.cms\\n[3] https://www.india-briefing.com/news/indias-new-income-tax-bill-2025-an-overview-36160.html/\\n[4] https://www.aljazeera.com/news/2025/4/3/indian-parliaments-lower-house-passes-controversial-muslim-endowments-bill\\n[5] https://www.pbs.org/newshour/world/indias-lower-house-passes-controversial-bill-that-would-change-muslim-land-endowments\\n[6] https://www.telegraphindia.com/india/modi-government-ignores-anti-muslim-outcry-as-lok-sabha-passes-waqf-amendment-bill-2025/cid/2092118\\n[7] https://news24online.com/india/waqf-amendment-bill-2025-5-key-reasons-why-muslims-are-angry-about-the-new-changes/519511/\\n[8] https://frontline.thehindu.com/politics/waqf-amendment-bill-2024-parliament-debate-nda-vs-india-impact-muslims/article69401154.ece\\n[9] https://gulfnews.com/world/asia/india/what-is-waqf-amendment-bill-2024-key-changes-and-their-impact-on-governance-and-property-management-1.500081903\\n[10] https://www.bbc.com/news/articles/cwy744983e3o\\n[11] https://apnews.com/article/india-muslim-endowments-waqf-parliament-4fb3ce70dbd2e579bccc43ce1e245f6d\\n[12] https://www.realclearreligion.org/2025/04/03/india_passes_controversial_bill_that_would_change_muslim_endowments_1101782.html\\n\\n## Comparison and Analysis\\nThe Waqf (Amendment) Bill 2025 and the New Income Tax Bill 2025 have been subjects of intense debate in India. According to sources [1] and [7], the Waqf Bill aims to reform the management of Waqf properties, focusing on transparency and inclusivity. There is no mention of a new tax being imposed on Muslims in the provided sources. \\n\\nThe Waqf Amendment Bill allows for the removal of Section 107 and brings the Waqf Board under the purview of the Limitation Act 1963, as stated in source [2]. The New Income Tax Bill 2025 is not directly related to the Waqf Bill, and its provisions do not specifically target Muslims.\\n\\n### Sources\\n[1] Modi government ignores 'anti-Muslim' outcry as Lok ... - Telegraph India: https://www.telegraphindia.com/india/modi-government-ignores-anti-muslim-outcry-as-lok-sabha-passes-waqf-amendment-bill-2025/cid/2092118\\n[2] Waqf Amendment Bill 2025: 5 Key Reasons Why Muslims Are Angry About The ...: https://news24online.com/india/waqf-amendment-bill-2025-5-key-reasons-why-muslims-are-angry-about-the-new-changes/519511/\\n[3] India's Lower House passes controversial bill that would change Muslim ...: https://www.pbs.org/newshour/world/indias-lower-house-passes-controversial-bill-that-would-change-muslim-land-endowments\\n[4] Indian parliament's lower house passes controversial Muslim endowments ...: https://www.aljazeera.com/news/2025/4/3/indian-parliaments-lower-house-passes-controversial-muslim-endowments-bill\\n[5] India Parliament Passes Controversial Muslim Property Law: https://www.bloomberg.com/news/articles/2025-04-04/india-parliament-passes-controversial-muslim-property-law\\n[6] Waqf (Amendment) Bill 2025: Key Changes, Issues & Impact on Minority ...: https://www.insightsonindia.com/2025/04/03/the-waqf-amendment-bill-2025/\\n[7] The Waqf (Amendment) Bill 2025: A Comprehensive Analysis Of Reforms ...: https://www.realshepower.in/the-waqf-amendment-bill-2025-analysis/\\n\\n# Is it true that Muslims will be charged a New Tax from September of 2025 in India?\\nThe report investigates the Waqf Amendment Bill 2025 and its implications for Muslims in India, as well as the New Income Tax Bill 2025.\\n\\n## Conclusion\\nThe Waqf Amendment Bill 2025 and the New Income Tax Bill 2025 have been subjects of intense debate in India. \\n* The Waqf Amendment Bill aims to reform the management of Waqf properties.\\n* The New Income Tax Bill 2025 focuses on simplifying tax laws and reducing litigation.\\nThere is no mention of a new tax being imposed on Muslims in the provided sources. The next step is to monitor the implementation of these bills and their impact on the Muslim community in India.\"}}\n"
          ]
        }
      ]
    },
    {
      "cell_type": "code",
      "source": [
        "async for event in graph.astream(Command(resume=True), thread, stream_mode=\"updates\"):\n",
        "    print(event)"
      ],
      "metadata": {
        "id": "lPLUIA4ugMcW"
      },
      "execution_count": 13,
      "outputs": []
    },
    {
      "cell_type": "code",
      "source": [
        "from IPython.display import display, Markdown\n",
        "display(Markdown(event['compile_final_report']['final_report']))"
      ],
      "metadata": {
        "colab": {
          "base_uri": "https://localhost:8080/",
          "height": 1000
        },
        "id": "PkBqQ_4Lgz8D",
        "outputId": "ab87819d-cd03-4497-fa1b-851237e3f76d"
      },
      "execution_count": 14,
      "outputs": [
        {
          "output_type": "display_data",
          "data": {
            "text/plain": [
              "<IPython.core.display.Markdown object>"
            ],
            "text/markdown": "# Introduction to New Tax on Muslims in India\nThe Indian government has introduced the Waqf Amendment Bill 2025, sparking controversy among Muslims. Concerns have been raised about a potential new tax on Muslims, but the available information does not confirm this. This report aims to provide an overview of the Waqf Amendment Bill 2025 and its implications for Muslims in India.\n\n## Overview of Waqf Amendment Bill 2025\nThe Waqf Amendment Bill 2025 has been passed in both the Lok Sabha and Rajya Sabha, aiming to reform the management of Waqf properties in India. The bill brings significant changes, including the removal of Section 107 and the application of the Limitation Act 1963 to Waqf Boards. It also modifies the composition of State Waqf Boards and allows for the use of designated properties for affordable housing projects and other social initiatives.\n\nThe bill has sparked controversy, with some Muslims opposing it due to concerns about its impact on institutional autonomy and community rights. However, the government claims that the changes are necessary to root out corruption and promote social welfare, with measures such as greater representation of women in Waqf Boards and support for initiatives like scholarships for Muslim girls.\n\n### Sources\n[1] https://news24online.com/india/waqf-amendment-bill-2025-5-key-reasons-why-muslims-are-angry-about-the-new-changes/519511/\n[2] https://abcnews.go.com/International/wireStory/indias-parliament-passes-controversial-bill-change-muslim-endowments-120436424\n[3] https://www.pbs.org/newshour/world/indias-lower-house-passes-controversial-bill-that-would-change-muslim-land-endowments\n[4] https://www.aljazeera.com/news/2025/4/3/indian-parliaments-lower-house-passes-controversial-muslim-endowments-bill\n[5] https://static.pib.gov.in/WriteReadData/specificdocs/documents/2025/apr/doc202543531701.pdf\n[6] https://ddnews.gov.in/en/understanding-waqf-and-the-2025-amendment-key-reforms-challenges-and-implications/\n[7] https://www.realshepower.in/the-waqf-amendment-bill-2025-analysis/\n[8] https://timesofindia.indiatimes.com/india/waqf-amendment-bill-why-muslims-are-opposing-it/articleshow/119905795.cms\n[9] https://www.onmanorama.com/news/india/2025/04/03/waqf-amendment-bill-key-provisions-non-muslim-members-wakf-tribunal-changes-explained.html\n[10] https://www.livemint.com/politics/news/waqf-bill-in-lok-sabha-a-complete-guide-to-controversy-amendments-and-nda-vs-india-showdown-11743557815392.html\n\n## New Income Tax Bill 2025\nThe New Income Tax Bill 2025 is a proposed legislation aimed at modernizing India's tax system. However, the recent controversy surrounding the Waqf Amendment Bill has sparked concerns among Muslims about potential control over their properties. The Waqf Amendment Bill allows for the removal of Section 107 and brings the Waqf Board under the purview of the Limitation Act 1963, giving the government greater control over Muslim properties.\n\nThe bill has been met with opposition, with many fearing it will give the Hindu nationalist government greater control over Muslim properties. The New Income Tax Bill 2025 itself focuses on simplifying tax laws and reducing litigation, but its relevance to the topic of a new tax on Muslims is unclear.\n### Sources\n[1] https://www.jagranjosh.com/general-knowledge/what-is-the-new-income-tax-bill-explained-1739197540-1\n[2] https://timesofindia.indiatimes.com/business/india-business/new-income-tax-bill-2025-explained-top-30-faqs-every-taxpayer-should-check/articleshow/118242116.cms\n[3] https://www.india-briefing.com/news/indias-new-income-tax-bill-2025-an-overview-36160.html/\n[4] https://www.aljazeera.com/news/2025/4/3/indian-parliaments-lower-house-passes-controversial-muslim-endowments-bill\n[5] https://www.pbs.org/newshour/world/indias-lower-house-passes-controversial-bill-that-would-change-muslim-land-endowments\n[6] https://www.telegraphindia.com/india/modi-government-ignores-anti-muslim-outcry-as-lok-sabha-passes-waqf-amendment-bill-2025/cid/2092118\n[7] https://news24online.com/india/waqf-amendment-bill-2025-5-key-reasons-why-muslims-are-angry-about-the-new-changes/519511/\n[8] https://frontline.thehindu.com/politics/waqf-amendment-bill-2024-parliament-debate-nda-vs-india-impact-muslims/article69401154.ece\n[9] https://gulfnews.com/world/asia/india/what-is-waqf-amendment-bill-2024-key-changes-and-their-impact-on-governance-and-property-management-1.500081903\n[10] https://www.bbc.com/news/articles/cwy744983e3o\n[11] https://apnews.com/article/india-muslim-endowments-waqf-parliament-4fb3ce70dbd2e579bccc43ce1e245f6d\n[12] https://www.realclearreligion.org/2025/04/03/india_passes_controversial_bill_that_would_change_muslim_endowments_1101782.html\n\n## Comparison and Analysis\nThe Waqf (Amendment) Bill 2025 and the New Income Tax Bill 2025 have been subjects of intense debate in India. According to sources [1] and [7], the Waqf Bill aims to reform the management of Waqf properties, focusing on transparency and inclusivity. There is no mention of a new tax being imposed on Muslims in the provided sources. \n\nThe Waqf Amendment Bill allows for the removal of Section 107 and brings the Waqf Board under the purview of the Limitation Act 1963, as stated in source [2]. The New Income Tax Bill 2025 is not directly related to the Waqf Bill, and its provisions do not specifically target Muslims.\n\n### Sources\n[1] Modi government ignores 'anti-Muslim' outcry as Lok ... - Telegraph India: https://www.telegraphindia.com/india/modi-government-ignores-anti-muslim-outcry-as-lok-sabha-passes-waqf-amendment-bill-2025/cid/2092118\n[2] Waqf Amendment Bill 2025: 5 Key Reasons Why Muslims Are Angry About The ...: https://news24online.com/india/waqf-amendment-bill-2025-5-key-reasons-why-muslims-are-angry-about-the-new-changes/519511/\n[3] India's Lower House passes controversial bill that would change Muslim ...: https://www.pbs.org/newshour/world/indias-lower-house-passes-controversial-bill-that-would-change-muslim-land-endowments\n[4] Indian parliament's lower house passes controversial Muslim endowments ...: https://www.aljazeera.com/news/2025/4/3/indian-parliaments-lower-house-passes-controversial-muslim-endowments-bill\n[5] India Parliament Passes Controversial Muslim Property Law: https://www.bloomberg.com/news/articles/2025-04-04/india-parliament-passes-controversial-muslim-property-law\n[6] Waqf (Amendment) Bill 2025: Key Changes, Issues & Impact on Minority ...: https://www.insightsonindia.com/2025/04/03/the-waqf-amendment-bill-2025/\n[7] The Waqf (Amendment) Bill 2025: A Comprehensive Analysis Of Reforms ...: https://www.realshepower.in/the-waqf-amendment-bill-2025-analysis/\n\n# Is it true that Muslims will be charged a New Tax from September of 2025 in India?\nThe report investigates the Waqf Amendment Bill 2025 and its implications for Muslims in India, as well as the New Income Tax Bill 2025.\n\n## Conclusion\nThe Waqf Amendment Bill 2025 and the New Income Tax Bill 2025 have been subjects of intense debate in India. \n* The Waqf Amendment Bill aims to reform the management of Waqf properties.\n* The New Income Tax Bill 2025 focuses on simplifying tax laws and reducing litigation.\nThere is no mention of a new tax being imposed on Muslims in the provided sources. The next step is to monitor the implementation of these bills and their impact on the Muslim community in India."
          },
          "metadata": {}
        }
      ]
    }
  ]
}